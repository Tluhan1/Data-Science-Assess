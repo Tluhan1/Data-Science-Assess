{
 "cells": [
  {
   "cell_type": "markdown",
   "metadata": {},
   "source": [
    "# **Language detection:**"
   ]
  },
  {
   "cell_type": "markdown",
   "metadata": {},
   "source": [
    "## **Dependencies:**"
   ]
  },
  {
   "cell_type": "code",
   "execution_count": 3,
   "metadata": {},
   "outputs": [],
   "source": [
    "import pickle\n",
    "import numpy as np\n",
    "import pandas as pd\n",
    "from matplotlib import pyplot as plt \n",
    "\n",
    "from sklearn import metrics\n",
    "from sklearn import naive_bayes\n",
    "from sklearn.model_selection import train_test_split\n",
    "from sklearn.feature_extraction.text import TfidfVectorizer\n",
    "\n",
    "from imblearn.over_sampling import SMOTE\n",
    "import warnings\n",
    "warnings.filterwarnings('ignore')"
   ]
  },
  {
   "cell_type": "markdown",
   "metadata": {},
   "source": [
    "## **Get, explore and remove missing text data:** "
   ]
  },
  {
   "cell_type": "code",
   "execution_count": 4,
   "metadata": {},
   "outputs": [
    {
     "name": "stdout",
     "output_type": "stream",
     "text": [
      "(2839, 2)\n",
      "(2761, 2) \n",
      "\n"
     ]
    },
    {
     "data": {
      "text/html": [
       "<div>\n",
       "<style scoped>\n",
       "    .dataframe tbody tr th:only-of-type {\n",
       "        vertical-align: middle;\n",
       "    }\n",
       "\n",
       "    .dataframe tbody tr th {\n",
       "        vertical-align: top;\n",
       "    }\n",
       "\n",
       "    .dataframe thead th {\n",
       "        text-align: right;\n",
       "    }\n",
       "</style>\n",
       "<table border=\"1\" class=\"dataframe\">\n",
       "  <thead>\n",
       "    <tr style=\"text-align: right;\">\n",
       "      <th></th>\n",
       "      <th>text</th>\n",
       "      <th>language</th>\n",
       "    </tr>\n",
       "  </thead>\n",
       "  <tbody>\n",
       "    <tr>\n",
       "      <th>0</th>\n",
       "      <td>Ship shape and Bristol fashion</td>\n",
       "      <td>English</td>\n",
       "    </tr>\n",
       "    <tr>\n",
       "      <th>1</th>\n",
       "      <td>Know the ropes</td>\n",
       "      <td>English</td>\n",
       "    </tr>\n",
       "    <tr>\n",
       "      <th>2</th>\n",
       "      <td>Graveyard shift</td>\n",
       "      <td>English</td>\n",
       "    </tr>\n",
       "    <tr>\n",
       "      <th>3</th>\n",
       "      <td>Milk of human kindness</td>\n",
       "      <td>English</td>\n",
       "    </tr>\n",
       "    <tr>\n",
       "      <th>4</th>\n",
       "      <td>Touch with a barge-pole - Wouldn't</td>\n",
       "      <td>English</td>\n",
       "    </tr>\n",
       "    <tr>\n",
       "      <th>5</th>\n",
       "      <td>Sy kan altyd my battery natpiepie.</td>\n",
       "      <td>Afrikaans</td>\n",
       "    </tr>\n",
       "    <tr>\n",
       "      <th>6</th>\n",
       "      <td>When the shit hits the fan</td>\n",
       "      <td>English</td>\n",
       "    </tr>\n",
       "    <tr>\n",
       "      <th>8</th>\n",
       "      <td>Egg on</td>\n",
       "      <td>English</td>\n",
       "    </tr>\n",
       "    <tr>\n",
       "      <th>9</th>\n",
       "      <td>Drag race</td>\n",
       "      <td>English</td>\n",
       "    </tr>\n",
       "    <tr>\n",
       "      <th>10</th>\n",
       "      <td>As queer as a nine bob note</td>\n",
       "      <td>English</td>\n",
       "    </tr>\n",
       "  </tbody>\n",
       "</table>\n",
       "</div>"
      ],
      "text/plain": [
       "                                  text   language\n",
       "0       Ship shape and Bristol fashion    English\n",
       "1                       Know the ropes    English\n",
       "2                      Graveyard shift    English\n",
       "3               Milk of human kindness    English\n",
       "4   Touch with a barge-pole - Wouldn't    English\n",
       "5   Sy kan altyd my battery natpiepie.  Afrikaans\n",
       "6           When the shit hits the fan    English\n",
       "8                               Egg on    English\n",
       "9                            Drag race    English\n",
       "10         As queer as a nine bob note    English"
      ]
     },
     "execution_count": 4,
     "metadata": {},
     "output_type": "execute_result"
    }
   ],
   "source": [
    "# Get text:\n",
    "df = pd.read_csv(\"lang_data.csv\")\n",
    "print(df.shape)\n",
    "df = df.dropna()\n",
    "print(df.shape,'\\n') # A lot of missing values\n",
    "df.head(10)"
   ]
  },
  {
   "cell_type": "code",
   "execution_count": 6,
   "metadata": {},
   "outputs": [
    {
     "name": "stdout",
     "output_type": "stream",
     "text": [
      "['English' 'Afrikaans' 'Nederlands'] \n",
      "\n",
      "Number of instances in dataset:  2761\n",
      "Number of English instances:  2055\n",
      "Number of Afrikaans instances:  639\n",
      "Number of Afrikaans instances:  67 \n",
      "\n"
     ]
    },
    {
     "data": {
      "text/html": [
       "<div>\n",
       "<style scoped>\n",
       "    .dataframe tbody tr th:only-of-type {\n",
       "        vertical-align: middle;\n",
       "    }\n",
       "\n",
       "    .dataframe tbody tr th {\n",
       "        vertical-align: top;\n",
       "    }\n",
       "\n",
       "    .dataframe thead th {\n",
       "        text-align: right;\n",
       "    }\n",
       "</style>\n",
       "<table border=\"1\" class=\"dataframe\">\n",
       "  <thead>\n",
       "    <tr style=\"text-align: right;\">\n",
       "      <th></th>\n",
       "      <th>text</th>\n",
       "      <th>language</th>\n",
       "    </tr>\n",
       "  </thead>\n",
       "  <tbody>\n",
       "    <tr>\n",
       "      <th>0</th>\n",
       "      <td>Ship shape and Bristol fashion</td>\n",
       "      <td>English</td>\n",
       "    </tr>\n",
       "    <tr>\n",
       "      <th>1</th>\n",
       "      <td>Know the ropes</td>\n",
       "      <td>English</td>\n",
       "    </tr>\n",
       "    <tr>\n",
       "      <th>2</th>\n",
       "      <td>Graveyard shift</td>\n",
       "      <td>English</td>\n",
       "    </tr>\n",
       "    <tr>\n",
       "      <th>3</th>\n",
       "      <td>Milk of human kindness</td>\n",
       "      <td>English</td>\n",
       "    </tr>\n",
       "    <tr>\n",
       "      <th>4</th>\n",
       "      <td>Touch with a barge-pole - Wouldn't</td>\n",
       "      <td>English</td>\n",
       "    </tr>\n",
       "  </tbody>\n",
       "</table>\n",
       "</div>"
      ],
      "text/plain": [
       "                                 text language\n",
       "0      Ship shape and Bristol fashion  English\n",
       "1                      Know the ropes  English\n",
       "2                     Graveyard shift  English\n",
       "3              Milk of human kindness  English\n",
       "4  Touch with a barge-pole - Wouldn't  English"
      ]
     },
     "execution_count": 6,
     "metadata": {},
     "output_type": "execute_result"
    }
   ],
   "source": [
    "# Show language:\n",
    "Label_list = list(df)\n",
    "Language_list = df['language'].unique()\n",
    "# print(Label_list,'\\n')\n",
    "print(Language_list,'\\n')\n",
    "data_g = df.groupby('language')\n",
    "# data.first()\n",
    "print(\"Number of instances in dataset: \",len(df))\n",
    "\n",
    "# Get english text:\n",
    "print(\"Number of English instances: \",len(data_g.get_group(Language_list[0])))\n",
    "data_english = data_g.get_group(Language_list[0]) # A look at english\n",
    "data_english.reset_index(inplace=True)\n",
    "data_english = data_english.drop(\"index\", axis=1)\n",
    "# data_english.head(5)\n",
    "\n",
    "# Get afrikaans text:\n",
    "print(\"Number of Afrikaans instances: \",len(data_g.get_group(Language_list[1])))\n",
    "data_afrikaans = data_g.get_group(Language_list[1]) # A look at english\n",
    "data_afrikaans.reset_index(inplace=True)\n",
    "data_afrikaans = data_afrikaans.drop(\"index\", axis=1)\n",
    "# data_afrikaans.head(5)\n",
    "\n",
    "# Get netherland text:\n",
    "print(\"Number of Afrikaans instances: \",len(data_g.get_group(Language_list[2])),'\\n')\n",
    "data_netherland = data_g.get_group(Language_list[2]) # A look at english\n",
    "data_netherland.reset_index(inplace=True)\n",
    "data_netherland = data_netherland.drop(\"index\", axis=1)\n",
    "# data_netherlands.head(5)\n",
    "\n",
    "data = df\n",
    "data.head()"
   ]
  },
  {
   "cell_type": "markdown",
   "metadata": {},
   "source": [
    "#### **Own function (instead of using \"encoder.fit_transform\") for vectorise (mode=0) and de-vectorize (mode=1) labels:**"
   ]
  },
  {
   "cell_type": "code",
   "execution_count": 7,
   "metadata": {},
   "outputs": [],
   "source": [
    "def Out_Vec_Devec(y1,mode):\n",
    "    if mode == 0:\n",
    "        y = []\n",
    "        for i in y1:\n",
    "            if i == 'English':\n",
    "                y.append(0)\n",
    "            if i == 'Afrikaans':\n",
    "                y.append(1)\n",
    "            if i == 'Nederlands':\n",
    "                y.append(2)\n",
    "    elif mode == 1:\n",
    "        y = []\n",
    "        for i in y1:\n",
    "            if i == 0:\n",
    "                y.append('English')\n",
    "            if i == 1:\n",
    "                y.append('Afrikaans')\n",
    "            if i == 2:\n",
    "                y.append('Nederlands')\n",
    "    return y"
   ]
  },
  {
   "cell_type": "markdown",
   "metadata": {},
   "source": [
    "## **For imbalanced data:**"
   ]
  },
  {
   "cell_type": "markdown",
   "metadata": {},
   "source": [
    "#### **Vectorize text, train and test:**"
   ]
  },
  {
   "cell_type": "code",
   "execution_count": 8,
   "metadata": {},
   "outputs": [],
   "source": [
    "df_temp = data.copy(deep = True)\n",
    "tfidf_vectorizer = TfidfVectorizer(ngram_range=(1, 2))\n",
    "tfidf_vectorizer.fit(df_temp['text'])\n",
    "list_corpus = df_temp[\"text\"].tolist()\n",
    "list_labels = df_temp[\"language\"].tolist()\n",
    "\n",
    "X = tfidf_vectorizer.transform(list_corpus)\n",
    "y = Out_Vec_Devec(list_labels,0)\n",
    "\n",
    "X_train, X_test, y_train, y_test = train_test_split(X, y, test_size=0.2, random_state=40)"
   ]
  },
  {
   "cell_type": "code",
   "execution_count": 9,
   "metadata": {},
   "outputs": [
    {
     "name": "stdout",
     "output_type": "stream",
     "text": [
      "0.9439421338155516\n"
     ]
    }
   ],
   "source": [
    "# Naive Bayes on Character Level TF IDF Vectors\n",
    "classifier = naive_bayes.MultinomialNB()\n",
    "classifier.fit(X_train,y_train)\n",
    "# predict the labels on validation dataset\n",
    "y_pred = classifier.predict(X_test)\n",
    "accuracy = metrics.accuracy_score(y_pred,y_test)\n",
    "print(accuracy)"
   ]
  },
  {
   "cell_type": "code",
   "execution_count": 10,
   "metadata": {},
   "outputs": [
    {
     "data": {
      "text/html": [
       "<div>\n",
       "<style scoped>\n",
       "    .dataframe tbody tr th:only-of-type {\n",
       "        vertical-align: middle;\n",
       "    }\n",
       "\n",
       "    .dataframe tbody tr th {\n",
       "        vertical-align: top;\n",
       "    }\n",
       "\n",
       "    .dataframe thead th {\n",
       "        text-align: right;\n",
       "    }\n",
       "</style>\n",
       "<table border=\"1\" class=\"dataframe\">\n",
       "  <thead>\n",
       "    <tr style=\"text-align: right;\">\n",
       "      <th></th>\n",
       "      <th>Labels</th>\n",
       "      <th>Recall</th>\n",
       "      <th>Precision</th>\n",
       "      <th>F1-score</th>\n",
       "    </tr>\n",
       "  </thead>\n",
       "  <tbody>\n",
       "    <tr>\n",
       "      <th>0</th>\n",
       "      <td>English</td>\n",
       "      <td>0.935335</td>\n",
       "      <td>1.000000</td>\n",
       "      <td>0.966587</td>\n",
       "    </tr>\n",
       "    <tr>\n",
       "      <th>1</th>\n",
       "      <td>Afrikaans</td>\n",
       "      <td>0.975000</td>\n",
       "      <td>0.886364</td>\n",
       "      <td>0.928571</td>\n",
       "    </tr>\n",
       "    <tr>\n",
       "      <th>2</th>\n",
       "      <td>Nederland</td>\n",
       "      <td>0.000000</td>\n",
       "      <td>0.000000</td>\n",
       "      <td>0.000000</td>\n",
       "    </tr>\n",
       "  </tbody>\n",
       "</table>\n",
       "</div>"
      ],
      "text/plain": [
       "      Labels    Recall  Precision  F1-score\n",
       "0    English  0.935335   1.000000  0.966587\n",
       "1  Afrikaans  0.975000   0.886364  0.928571\n",
       "2  Nederland  0.000000   0.000000  0.000000"
      ]
     },
     "execution_count": 10,
     "metadata": {},
     "output_type": "execute_result"
    }
   ],
   "source": [
    "from sklearn.metrics import f1_score, accuracy_score, precision_score, recall_score, confusion_matrix, make_scorer\n",
    "\n",
    "final_metrics = pd.DataFrame({'Labels': ['English','Afrikaans','Nederland'], \n",
    "                              'Recall': recall_score(y_pred,y_test, average = None),\n",
    "                              'Precision': precision_score(y_pred,y_test, average = None),\n",
    "                              'F1-score': f1_score(y_pred,y_test, average = None)})\n",
    "final_metrics"
   ]
  },
  {
   "cell_type": "markdown",
   "metadata": {},
   "source": [
    "#### **Performance for each language:**"
   ]
  },
  {
   "cell_type": "code",
   "execution_count": 11,
   "metadata": {},
   "outputs": [
    {
     "name": "stdout",
     "output_type": "stream",
     "text": [
      "Accuracy for Eng:  1.0\n",
      "Accuracy for Afr:  0.8863636363636364\n",
      "Accuracy for Ned:  0.0\n"
     ]
    }
   ],
   "source": [
    "y_test_eng = []\n",
    "y_test_afr = []\n",
    "y_test_ned = []\n",
    "y_pred_eng = []\n",
    "y_pred_afr = []\n",
    "y_pred_ned = []\n",
    "for i in range(len(y_test)):\n",
    "    if y_test[i] == 0:\n",
    "        y_test_eng.append(y_test[i])\n",
    "        y_pred_eng.append(y_pred[i])\n",
    "    if y_test[i] == 1:\n",
    "        y_test_afr.append(y_test[i])\n",
    "        y_pred_afr.append(y_pred[i])\n",
    "    if y_test[i] == 2:\n",
    "        y_test_ned.append(y_test[i])\n",
    "        y_pred_ned.append(y_pred[i])\n",
    "\n",
    "accuracy_eng = metrics.accuracy_score(y_pred_eng,y_test_eng)\n",
    "print(\"Accuracy for Eng: \",accuracy_eng)\n",
    "\n",
    "accuracy_afr = metrics.accuracy_score(y_pred_afr,y_test_afr)\n",
    "print(\"Accuracy for Afr: \",accuracy_afr)\n",
    "\n",
    "accuracy_ned = metrics.accuracy_score(y_pred_ned,y_test_ned)\n",
    "print(\"Accuracy for Ned: \",accuracy_ned)"
   ]
  },
  {
   "cell_type": "markdown",
   "metadata": {},
   "source": [
    "## **For balanced data:**"
   ]
  },
  {
   "cell_type": "markdown",
   "metadata": {},
   "source": [
    "#### **Vectorize text, train and test:**"
   ]
  },
  {
   "cell_type": "code",
   "execution_count": 12,
   "metadata": {},
   "outputs": [],
   "source": [
    "df_temp = data.copy(deep = True)\n",
    "tfidf_vectorizer = TfidfVectorizer(ngram_range=(1, 2))\n",
    "tfidf_vectorizer.fit(df_temp['text'])\n",
    "list_corpus = df_temp[\"text\"].tolist()\n",
    "list_labels = df_temp[\"language\"].tolist()\n",
    "X_Vec = tfidf_vectorizer.transform(list_corpus)\n",
    "\n",
    "# Oversampling:\n",
    "smote_over_sample = SMOTE(sampling_strategy='minority')\n",
    "X1, y1 = smote_over_sample.fit_resample(X_Vec, list_labels)\n",
    "X, y2 = smote_over_sample.fit_resample(X1,y1)\n",
    "\n",
    "y = Out_Vec_Devec(y2,0)\n",
    "X_train, X_test, y_train, y_test = train_test_split(X, y, test_size=0.2, random_state=40)"
   ]
  },
  {
   "cell_type": "code",
   "execution_count": 13,
   "metadata": {},
   "outputs": [
    {
     "name": "stdout",
     "output_type": "stream",
     "text": [
      "0.9975669099756691\n"
     ]
    }
   ],
   "source": [
    "# Naive Bayes on Character Level TF IDF Vectors\n",
    "classifier = naive_bayes.MultinomialNB()\n",
    "classifier.fit(X_train,y_train)\n",
    "# predict the labels on validation dataset\n",
    "y_pred = classifier.predict(X_test)\n",
    "accuracy = metrics.accuracy_score(y_pred,y_test)\n",
    "print(accuracy)"
   ]
  },
  {
   "cell_type": "code",
   "execution_count": 14,
   "metadata": {},
   "outputs": [
    {
     "data": {
      "text/html": [
       "<div>\n",
       "<style scoped>\n",
       "    .dataframe tbody tr th:only-of-type {\n",
       "        vertical-align: middle;\n",
       "    }\n",
       "\n",
       "    .dataframe tbody tr th {\n",
       "        vertical-align: top;\n",
       "    }\n",
       "\n",
       "    .dataframe thead th {\n",
       "        text-align: right;\n",
       "    }\n",
       "</style>\n",
       "<table border=\"1\" class=\"dataframe\">\n",
       "  <thead>\n",
       "    <tr style=\"text-align: right;\">\n",
       "      <th></th>\n",
       "      <th>Labels</th>\n",
       "      <th>Recall</th>\n",
       "      <th>Precision</th>\n",
       "      <th>F1-score</th>\n",
       "    </tr>\n",
       "  </thead>\n",
       "  <tbody>\n",
       "    <tr>\n",
       "      <th>0</th>\n",
       "      <td>English</td>\n",
       "      <td>1.000000</td>\n",
       "      <td>0.992771</td>\n",
       "      <td>0.996372</td>\n",
       "    </tr>\n",
       "    <tr>\n",
       "      <th>1</th>\n",
       "      <td>Afrikaans</td>\n",
       "      <td>0.997436</td>\n",
       "      <td>1.000000</td>\n",
       "      <td>0.998716</td>\n",
       "    </tr>\n",
       "    <tr>\n",
       "      <th>2</th>\n",
       "      <td>Nederland</td>\n",
       "      <td>0.995360</td>\n",
       "      <td>1.000000</td>\n",
       "      <td>0.997674</td>\n",
       "    </tr>\n",
       "  </tbody>\n",
       "</table>\n",
       "</div>"
      ],
      "text/plain": [
       "      Labels    Recall  Precision  F1-score\n",
       "0    English  1.000000   0.992771  0.996372\n",
       "1  Afrikaans  0.997436   1.000000  0.998716\n",
       "2  Nederland  0.995360   1.000000  0.997674"
      ]
     },
     "execution_count": 14,
     "metadata": {},
     "output_type": "execute_result"
    }
   ],
   "source": [
    "from sklearn.metrics import f1_score, accuracy_score, precision_score, recall_score, confusion_matrix, make_scorer\n",
    "\n",
    "final_metrics = pd.DataFrame({'Labels': ['English','Afrikaans','Nederland'], \n",
    "                              'Recall': recall_score(y_pred,y_test, average = None),\n",
    "                              'Precision': precision_score(y_pred,y_test, average = None),\n",
    "                              'F1-score': f1_score(y_pred,y_test, average = None)})\n",
    "final_metrics"
   ]
  },
  {
   "cell_type": "markdown",
   "metadata": {},
   "source": [
    "#### **Investigate performance for each language:**"
   ]
  },
  {
   "cell_type": "code",
   "execution_count": 18,
   "metadata": {},
   "outputs": [
    {
     "name": "stdout",
     "output_type": "stream",
     "text": [
      "Accuracy for Eng:  0.9927710843373494\n",
      "Accuracy for Afr:  1.0\n",
      "Accuracy for Ned:  1.0\n"
     ]
    }
   ],
   "source": [
    "y_test_eng = []\n",
    "y_test_afr = []\n",
    "y_test_ned = []\n",
    "y_pred_eng = []\n",
    "y_pred_afr = []\n",
    "y_pred_ned = []\n",
    "for i in range(len(y_test)):\n",
    "    if y_test[i] == 0:\n",
    "        y_test_eng.append(y_test[i])\n",
    "        y_pred_eng.append(y_pred[i])\n",
    "    if y_test[i] == 1:\n",
    "        y_test_afr.append(y_test[i])\n",
    "        y_pred_afr.append(y_pred[i])\n",
    "    if y_test[i] == 2:\n",
    "        y_test_ned.append(y_test[i])\n",
    "        y_pred_ned.append(y_pred[i])\n",
    "\n",
    "accuracy_eng = metrics.accuracy_score(y_pred_eng,y_test_eng)\n",
    "print(\"Accuracy for Eng: \",accuracy_eng)\n",
    "\n",
    "accuracy_afr = metrics.accuracy_score(y_pred_afr,y_test_afr)\n",
    "print(\"Accuracy for Afr: \",accuracy_afr)\n",
    "\n",
    "accuracy_ned = metrics.accuracy_score(y_pred_ned,y_test_ned)\n",
    "print(\"Accuracy for Ned: \",accuracy_ned)"
   ]
  },
  {
   "cell_type": "markdown",
   "metadata": {},
   "source": [
    "## **Example of a text classified as a language, and save model and vectorizer:**"
   ]
  },
  {
   "cell_type": "code",
   "execution_count": 20,
   "metadata": {},
   "outputs": [
    {
     "name": "stdout",
     "output_type": "stream",
     "text": [
      "['English'] \n",
      "\n",
      "['Afrikaans'] \n",
      "\n",
      "['Nederlands']\n"
     ]
    }
   ],
   "source": [
    "# Examples:\n",
    "text = [\"Ship shape and Bristol fashion\"]            # English text\n",
    "X = tfidf_vectorizer.transform(text)\n",
    "pred = classifier.predict(X)\n",
    "print(Out_Vec_Devec(pred,1),'\\n')\n",
    "\n",
    "text = [\"Die man met min woorde, se rekenaar is so kompak, dat daar nie plek is vir kaf nie.\"]\n",
    "X = tfidf_vectorizer.transform(text)\n",
    "pred = classifier.predict(X)\n",
    "print(Out_Vec_Devec(pred,1),'\\n')\n",
    "\n",
    "# Example:\n",
    "text = [\"Je moet geen oude schoenen weggooien, voordat je nieuwe hebt.\"]\n",
    "X = tfidf_vectorizer.transform(text)\n",
    "pred = classifier.predict(X)\n",
    "print(Out_Vec_Devec(pred,1))\n",
    "\n",
    "# save the model to disk\n",
    "filename = 'Language_classifier.sav'\n",
    "pickle.dump(classifier,open(filename, 'wb'))\n",
    "filename = 'Vectorizer.sav'\n",
    "pickle.dump(tfidf_vectorizer,open(filename, 'wb'))"
   ]
  },
  {
   "cell_type": "code",
   "execution_count": null,
   "metadata": {},
   "outputs": [],
   "source": []
  }
 ],
 "metadata": {
  "kernelspec": {
   "display_name": "Test_Env",
   "language": "python",
   "name": "test_env"
  },
  "language_info": {
   "codemirror_mode": {
    "name": "ipython",
    "version": 3
   },
   "file_extension": ".py",
   "mimetype": "text/x-python",
   "name": "python",
   "nbconvert_exporter": "python",
   "pygments_lexer": "ipython3",
   "version": "3.6.9"
  }
 },
 "nbformat": 4,
 "nbformat_minor": 4
}
